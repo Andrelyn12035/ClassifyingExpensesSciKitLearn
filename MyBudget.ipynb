{
  "nbformat": 4,
  "nbformat_minor": 0,
  "metadata": {
    "colab": {
      "name": "MyBudget.ipynb",
      "version": "0.3.2",
      "provenance": [],
      "collapsed_sections": []
    },
    "kernelspec": {
      "name": "python3",
      "display_name": "Python 3"
    }
  },
  "cells": [
    {
      "metadata": {
        "id": "7i-kzaz61KZf",
        "colab_type": "code",
        "colab": {}
      },
      "cell_type": "code",
      "source": [
        "import pandas as pd\n",
        "import matplotlib.pyplot as plt\n",
        "from sklearn.feature_extraction.text import TfidfVectorizer\n",
        "from sklearn.feature_selection import chi2\n",
        "import numpy as np\n",
        "from sklearn.model_selection import train_test_split\n",
        "from sklearn.feature_extraction.text import CountVectorizer\n",
        "from sklearn.feature_extraction.text import TfidfTransformer\n",
        "from sklearn.naive_bayes import MultinomialNB\n",
        "from sklearn.linear_model import LogisticRegression\n",
        "from sklearn.ensemble import RandomForestClassifier\n",
        "from sklearn.svm import LinearSVC\n",
        "from sklearn.model_selection import cross_val_score\n",
        "from sklearn import metrics\n",
        "\n"
      ],
      "execution_count": 0,
      "outputs": []
    },
    {
      "metadata": {
        "id": "MMPYQL4K_Kw1",
        "colab_type": "text"
      },
      "cell_type": "markdown",
      "source": [
        "Read CSV"
      ]
    },
    {
      "metadata": {
        "id": "AQGX_owP8_z2",
        "colab_type": "code",
        "colab": {
          "base_uri": "https://localhost:8080/",
          "height": 191
        },
        "outputId": "7ed9a200-95b1-41f8-8f7f-85d6c53459df"
      },
      "cell_type": "code",
      "source": [
        "df = pd.read_csv('TrainingData2.csv', encoding='latin-1')\n",
        "df.head()"
      ],
      "execution_count": 47,
      "outputs": [
        {
          "output_type": "execute_result",
          "data": {
            "text/html": [
              "<div>\n",
              "<style scoped>\n",
              "    .dataframe tbody tr th:only-of-type {\n",
              "        vertical-align: middle;\n",
              "    }\n",
              "\n",
              "    .dataframe tbody tr th {\n",
              "        vertical-align: top;\n",
              "    }\n",
              "\n",
              "    .dataframe thead th {\n",
              "        text-align: right;\n",
              "    }\n",
              "</style>\n",
              "<table border=\"1\" class=\"dataframe\">\n",
              "  <thead>\n",
              "    <tr style=\"text-align: right;\">\n",
              "      <th></th>\n",
              "      <th>Map_Name</th>\n",
              "      <th>Map_Text</th>\n",
              "    </tr>\n",
              "  </thead>\n",
              "  <tbody>\n",
              "    <tr>\n",
              "      <th>0</th>\n",
              "      <td>Restaurante</td>\n",
              "      <td>SUBWAY MULTIPLAZA ESCA</td>\n",
              "    </tr>\n",
              "    <tr>\n",
              "      <th>1</th>\n",
              "      <td>Gasolina</td>\n",
              "      <td>SERVICENTRO EL HIGUERO</td>\n",
              "    </tr>\n",
              "    <tr>\n",
              "      <th>2</th>\n",
              "      <td>Restaurante</td>\n",
              "      <td>LA FABRICA PIZZERIA CU</td>\n",
              "    </tr>\n",
              "    <tr>\n",
              "      <th>3</th>\n",
              "      <td>Restaurante</td>\n",
              "      <td>ROSTIPOLLOS</td>\n",
              "    </tr>\n",
              "    <tr>\n",
              "      <th>4</th>\n",
              "      <td>Supermercado</td>\n",
              "      <td>AUTO MERCADO PL/DEL SO</td>\n",
              "    </tr>\n",
              "  </tbody>\n",
              "</table>\n",
              "</div>"
            ],
            "text/plain": [
              "       Map_Name                 Map_Text\n",
              "0   Restaurante  SUBWAY MULTIPLAZA ESCA \n",
              "1      Gasolina   SERVICENTRO EL HIGUERO\n",
              "2   Restaurante  LA FABRICA PIZZERIA CU \n",
              "3   Restaurante              ROSTIPOLLOS\n",
              "4  Supermercado  AUTO MERCADO PL/DEL SO "
            ]
          },
          "metadata": {
            "tags": []
          },
          "execution_count": 47
        }
      ]
    },
    {
      "metadata": {
        "id": "ZOyRMnxk_Ne6",
        "colab_type": "text"
      },
      "cell_type": "markdown",
      "source": [
        "Add Category Id"
      ]
    },
    {
      "metadata": {
        "id": "3-MgaOEX9L5V",
        "colab_type": "code",
        "colab": {
          "base_uri": "https://localhost:8080/",
          "height": 1828
        },
        "outputId": "89c35613-5f8f-4e51-e80b-66fe4bf033da"
      },
      "cell_type": "code",
      "source": [
        "df['category_id'] = df['Map_Name'].factorize()[0]\n",
        "category_id_df = df[['Map_Name', 'category_id']].drop_duplicates().sort_values('category_id')\n",
        "category_to_id = dict(category_id_df.values)\n",
        "id_to_category = dict(category_id_df[['category_id', 'Map_Name']].values)\n",
        "df"
      ],
      "execution_count": 79,
      "outputs": [
        {
          "output_type": "execute_result",
          "data": {
            "text/html": [
              "<div>\n",
              "<style scoped>\n",
              "    .dataframe tbody tr th:only-of-type {\n",
              "        vertical-align: middle;\n",
              "    }\n",
              "\n",
              "    .dataframe tbody tr th {\n",
              "        vertical-align: top;\n",
              "    }\n",
              "\n",
              "    .dataframe thead th {\n",
              "        text-align: right;\n",
              "    }\n",
              "</style>\n",
              "<table border=\"1\" class=\"dataframe\">\n",
              "  <thead>\n",
              "    <tr style=\"text-align: right;\">\n",
              "      <th></th>\n",
              "      <th>Map_Name</th>\n",
              "      <th>Map_Text</th>\n",
              "      <th>category_id</th>\n",
              "    </tr>\n",
              "  </thead>\n",
              "  <tbody>\n",
              "    <tr>\n",
              "      <th>0</th>\n",
              "      <td>Restaurante</td>\n",
              "      <td>SUBWAY MULTIPLAZA ESCA</td>\n",
              "      <td>0</td>\n",
              "    </tr>\n",
              "    <tr>\n",
              "      <th>1</th>\n",
              "      <td>Gasolina</td>\n",
              "      <td>SERVICENTRO EL HIGUERO</td>\n",
              "      <td>1</td>\n",
              "    </tr>\n",
              "    <tr>\n",
              "      <th>2</th>\n",
              "      <td>Restaurante</td>\n",
              "      <td>LA FABRICA PIZZERIA CU</td>\n",
              "      <td>0</td>\n",
              "    </tr>\n",
              "    <tr>\n",
              "      <th>3</th>\n",
              "      <td>Restaurante</td>\n",
              "      <td>ROSTIPOLLOS</td>\n",
              "      <td>0</td>\n",
              "    </tr>\n",
              "    <tr>\n",
              "      <th>4</th>\n",
              "      <td>Supermercado</td>\n",
              "      <td>AUTO MERCADO PL/DEL SO</td>\n",
              "      <td>2</td>\n",
              "    </tr>\n",
              "    <tr>\n",
              "      <th>5</th>\n",
              "      <td>Restaurante</td>\n",
              "      <td>HOOLIGANS</td>\n",
              "      <td>0</td>\n",
              "    </tr>\n",
              "    <tr>\n",
              "      <th>6</th>\n",
              "      <td>Diversion</td>\n",
              "      <td>JUMP CENTER</td>\n",
              "      <td>3</td>\n",
              "    </tr>\n",
              "    <tr>\n",
              "      <th>7</th>\n",
              "      <td>Restaurante</td>\n",
              "      <td>RESTAURANTE TACO BELL</td>\n",
              "      <td>0</td>\n",
              "    </tr>\n",
              "    <tr>\n",
              "      <th>8</th>\n",
              "      <td>Software</td>\n",
              "      <td>Spotify P0441BF56D</td>\n",
              "      <td>4</td>\n",
              "    </tr>\n",
              "    <tr>\n",
              "      <th>9</th>\n",
              "      <td>Restaurante</td>\n",
              "      <td>TERIYAKI MULTIPLAZA ES</td>\n",
              "      <td>0</td>\n",
              "    </tr>\n",
              "    <tr>\n",
              "      <th>10</th>\n",
              "      <td>Supermercado</td>\n",
              "      <td>WALMART ESCAZ</td>\n",
              "      <td>2</td>\n",
              "    </tr>\n",
              "    <tr>\n",
              "      <th>11</th>\n",
              "      <td>Software</td>\n",
              "      <td>Dropbox 7N5JWLK5LLBQ</td>\n",
              "      <td>4</td>\n",
              "    </tr>\n",
              "    <tr>\n",
              "      <th>12</th>\n",
              "      <td>Restaurante</td>\n",
              "      <td>AROMA COFEE HOUSE</td>\n",
              "      <td>0</td>\n",
              "    </tr>\n",
              "    <tr>\n",
              "      <th>13</th>\n",
              "      <td>Restaurante</td>\n",
              "      <td>PORKYS BURGER</td>\n",
              "      <td>0</td>\n",
              "    </tr>\n",
              "    <tr>\n",
              "      <th>14</th>\n",
              "      <td>Gimnasio</td>\n",
              "      <td>MULTISPA DEL OESTE</td>\n",
              "      <td>5</td>\n",
              "    </tr>\n",
              "    <tr>\n",
              "      <th>15</th>\n",
              "      <td>Restaurante</td>\n",
              "      <td>SUBWAY U/LATINA</td>\n",
              "      <td>0</td>\n",
              "    </tr>\n",
              "    <tr>\n",
              "      <th>16</th>\n",
              "      <td>Restaurante</td>\n",
              "      <td>ROSTIPOLLOS MULTIPLAZA</td>\n",
              "      <td>0</td>\n",
              "    </tr>\n",
              "    <tr>\n",
              "      <th>17</th>\n",
              "      <td>Salud</td>\n",
              "      <td>NUTRICION INTEGRAL</td>\n",
              "      <td>6</td>\n",
              "    </tr>\n",
              "    <tr>\n",
              "      <th>18</th>\n",
              "      <td>Supermercado</td>\n",
              "      <td>AUTO MERCADO PL/DEL SO</td>\n",
              "      <td>2</td>\n",
              "    </tr>\n",
              "    <tr>\n",
              "      <th>19</th>\n",
              "      <td>Restaurante</td>\n",
              "      <td>RESTAURANTE TERRAZA TO</td>\n",
              "      <td>0</td>\n",
              "    </tr>\n",
              "    <tr>\n",
              "      <th>20</th>\n",
              "      <td>Restaurante</td>\n",
              "      <td>PF CHANG S</td>\n",
              "      <td>0</td>\n",
              "    </tr>\n",
              "    <tr>\n",
              "      <th>21</th>\n",
              "      <td>Restaurante</td>\n",
              "      <td>SUBWAY MULTIPLAZA ESCA</td>\n",
              "      <td>0</td>\n",
              "    </tr>\n",
              "    <tr>\n",
              "      <th>22</th>\n",
              "      <td>Restaurante</td>\n",
              "      <td>LA FABRICA PIZZERIA</td>\n",
              "      <td>0</td>\n",
              "    </tr>\n",
              "    <tr>\n",
              "      <th>23</th>\n",
              "      <td>Restaurante</td>\n",
              "      <td>TERIYAKI MULTIPLAZA ES</td>\n",
              "      <td>0</td>\n",
              "    </tr>\n",
              "    <tr>\n",
              "      <th>24</th>\n",
              "      <td>Supermercado</td>\n",
              "      <td>AUTO MERCADO MULTIPLAZ</td>\n",
              "      <td>2</td>\n",
              "    </tr>\n",
              "    <tr>\n",
              "      <th>25</th>\n",
              "      <td>Regalos</td>\n",
              "      <td>LIBRERIA INTERNACIONAL</td>\n",
              "      <td>7</td>\n",
              "    </tr>\n",
              "    <tr>\n",
              "      <th>26</th>\n",
              "      <td>Salud</td>\n",
              "      <td>FARM/SUCRE MULTIPLAZA OESTE</td>\n",
              "      <td>6</td>\n",
              "    </tr>\n",
              "    <tr>\n",
              "      <th>27</th>\n",
              "      <td>Gasolina</td>\n",
              "      <td>SERVICENTRO EL HIGUERON</td>\n",
              "      <td>1</td>\n",
              "    </tr>\n",
              "    <tr>\n",
              "      <th>28</th>\n",
              "      <td>Gasolina</td>\n",
              "      <td>BOMBA LA MARINA</td>\n",
              "      <td>1</td>\n",
              "    </tr>\n",
              "    <tr>\n",
              "      <th>29</th>\n",
              "      <td>Restaurante</td>\n",
              "      <td>SUBWAY CIUDAD QUESADA</td>\n",
              "      <td>0</td>\n",
              "    </tr>\n",
              "    <tr>\n",
              "      <th>...</th>\n",
              "      <td>...</td>\n",
              "      <td>...</td>\n",
              "      <td>...</td>\n",
              "    </tr>\n",
              "    <tr>\n",
              "      <th>262</th>\n",
              "      <td>Restaurante</td>\n",
              "      <td>SUBWAY U.LATINA</td>\n",
              "      <td>0</td>\n",
              "    </tr>\n",
              "    <tr>\n",
              "      <th>263</th>\n",
              "      <td>Gasolina</td>\n",
              "      <td>SERVICENTRO LA GALERA</td>\n",
              "      <td>1</td>\n",
              "    </tr>\n",
              "    <tr>\n",
              "      <th>264</th>\n",
              "      <td>Restaurante</td>\n",
              "      <td>TILAPIAS QUECO S</td>\n",
              "      <td>0</td>\n",
              "    </tr>\n",
              "    <tr>\n",
              "      <th>265</th>\n",
              "      <td>Restaurante</td>\n",
              "      <td>RESTAURANTE LAS HORTENSIAS</td>\n",
              "      <td>0</td>\n",
              "    </tr>\n",
              "    <tr>\n",
              "      <th>266</th>\n",
              "      <td>Supermercado</td>\n",
              "      <td>AUTO MERCADO PL.DEL SOL</td>\n",
              "      <td>2</td>\n",
              "    </tr>\n",
              "    <tr>\n",
              "      <th>267</th>\n",
              "      <td>Restaurante</td>\n",
              "      <td>NINA CAFE</td>\n",
              "      <td>0</td>\n",
              "    </tr>\n",
              "    <tr>\n",
              "      <th>268</th>\n",
              "      <td>Supermercado</td>\n",
              "      <td>MINI SUPER FRUTICAS N 1</td>\n",
              "      <td>2</td>\n",
              "    </tr>\n",
              "    <tr>\n",
              "      <th>269</th>\n",
              "      <td>Restaurante</td>\n",
              "      <td>NINA CAFE</td>\n",
              "      <td>0</td>\n",
              "    </tr>\n",
              "    <tr>\n",
              "      <th>270</th>\n",
              "      <td>Gimnasio</td>\n",
              "      <td>GIMNASIO CIPRESES</td>\n",
              "      <td>5</td>\n",
              "    </tr>\n",
              "    <tr>\n",
              "      <th>271</th>\n",
              "      <td>Restaurante</td>\n",
              "      <td>NINA CAFE</td>\n",
              "      <td>0</td>\n",
              "    </tr>\n",
              "    <tr>\n",
              "      <th>272</th>\n",
              "      <td>Restaurante</td>\n",
              "      <td>MEGA SUPER SANTA ANA</td>\n",
              "      <td>0</td>\n",
              "    </tr>\n",
              "    <tr>\n",
              "      <th>273</th>\n",
              "      <td>Restaurante</td>\n",
              "      <td>SUBWAY U.LATINA</td>\n",
              "      <td>0</td>\n",
              "    </tr>\n",
              "    <tr>\n",
              "      <th>274</th>\n",
              "      <td>Gasolina</td>\n",
              "      <td>SERVICENTRO EL HIGUERO\\SAN JOS</td>\n",
              "      <td>1</td>\n",
              "    </tr>\n",
              "    <tr>\n",
              "      <th>275</th>\n",
              "      <td>Restaurante</td>\n",
              "      <td>SUBWAY U.LATINA</td>\n",
              "      <td>0</td>\n",
              "    </tr>\n",
              "    <tr>\n",
              "      <th>276</th>\n",
              "      <td>Restaurante</td>\n",
              "      <td>LA FABRICA PIZZERIA CURRIDABAT</td>\n",
              "      <td>0</td>\n",
              "    </tr>\n",
              "    <tr>\n",
              "      <th>277</th>\n",
              "      <td>Regalos</td>\n",
              "      <td>YAMUNI SUCURSAL DEL ESTE</td>\n",
              "      <td>7</td>\n",
              "    </tr>\n",
              "    <tr>\n",
              "      <th>278</th>\n",
              "      <td>Restaurante</td>\n",
              "      <td>LA CASONA DE LALY SANT\\SANTA A</td>\n",
              "      <td>0</td>\n",
              "    </tr>\n",
              "    <tr>\n",
              "      <th>279</th>\n",
              "      <td>Salud</td>\n",
              "      <td>FISCHEL PLAZA DEL SOL S02</td>\n",
              "      <td>6</td>\n",
              "    </tr>\n",
              "    <tr>\n",
              "      <th>280</th>\n",
              "      <td>Supermercado</td>\n",
              "      <td>AUTO MERCADO PL.DEL SOL</td>\n",
              "      <td>2</td>\n",
              "    </tr>\n",
              "    <tr>\n",
              "      <th>281</th>\n",
              "      <td>Restaurante</td>\n",
              "      <td>LAS CATRINAS RESTAURANTE</td>\n",
              "      <td>0</td>\n",
              "    </tr>\n",
              "    <tr>\n",
              "      <th>282</th>\n",
              "      <td>Supermercado</td>\n",
              "      <td>AUTO MERCADO PL.DEL SOL</td>\n",
              "      <td>2</td>\n",
              "    </tr>\n",
              "    <tr>\n",
              "      <th>283</th>\n",
              "      <td>Restaurante</td>\n",
              "      <td>NINA CAFE</td>\n",
              "      <td>0</td>\n",
              "    </tr>\n",
              "    <tr>\n",
              "      <th>284</th>\n",
              "      <td>Supermercado</td>\n",
              "      <td>AUTO MERCADO PL.DEL SOL</td>\n",
              "      <td>2</td>\n",
              "    </tr>\n",
              "    <tr>\n",
              "      <th>285</th>\n",
              "      <td>Restaurante</td>\n",
              "      <td>HELADERIA LA ESTACION AVENIDA</td>\n",
              "      <td>0</td>\n",
              "    </tr>\n",
              "    <tr>\n",
              "      <th>286</th>\n",
              "      <td>Restaurante</td>\n",
              "      <td>SUBWAY U.LATINA</td>\n",
              "      <td>0</td>\n",
              "    </tr>\n",
              "    <tr>\n",
              "      <th>287</th>\n",
              "      <td>Restaurante</td>\n",
              "      <td>CACIQUITA RESTAUR Y LO HEREDIA</td>\n",
              "      <td>0</td>\n",
              "    </tr>\n",
              "    <tr>\n",
              "      <th>288</th>\n",
              "      <td>Restaurante</td>\n",
              "      <td>SUBWAY CIUD</td>\n",
              "      <td>0</td>\n",
              "    </tr>\n",
              "    <tr>\n",
              "      <th>289</th>\n",
              "      <td>Restaurante</td>\n",
              "      <td>RESTAURANTE TAIKO ALAJUELA</td>\n",
              "      <td>0</td>\n",
              "    </tr>\n",
              "    <tr>\n",
              "      <th>290</th>\n",
              "      <td>Gasolina</td>\n",
              "      <td>ESTAC. DE SERVICIO LOI ALAJUELA</td>\n",
              "      <td>1</td>\n",
              "    </tr>\n",
              "    <tr>\n",
              "      <th>291</th>\n",
              "      <td>Supermercado</td>\n",
              "      <td>AUTO MERCAD</td>\n",
              "      <td>2</td>\n",
              "    </tr>\n",
              "  </tbody>\n",
              "</table>\n",
              "<p>292 rows × 3 columns</p>\n",
              "</div>"
            ],
            "text/plain": [
              "         Map_Name                         Map_Text  category_id\n",
              "0     Restaurante          SUBWAY MULTIPLAZA ESCA             0\n",
              "1        Gasolina           SERVICENTRO EL HIGUERO            1\n",
              "2     Restaurante          LA FABRICA PIZZERIA CU             0\n",
              "3     Restaurante                      ROSTIPOLLOS            0\n",
              "4    Supermercado          AUTO MERCADO PL/DEL SO             2\n",
              "5     Restaurante                       HOOLIGANS             0\n",
              "6       Diversion                      JUMP CENTER            3\n",
              "7     Restaurante            RESTAURANTE TACO BELL            0\n",
              "8        Software               Spotify P0441BF56D            4\n",
              "9     Restaurante          TERIYAKI MULTIPLAZA ES             0\n",
              "10   Supermercado                    WALMART ESCAZ            2\n",
              "11       Software             Dropbox 7N5JWLK5LLBQ            4\n",
              "12    Restaurante                AROMA COFEE HOUSE            0\n",
              "13    Restaurante                    PORKYS BURGER            0\n",
              "14       Gimnasio               MULTISPA DEL OESTE            5\n",
              "15    Restaurante                  SUBWAY U/LATINA            0\n",
              "16    Restaurante           ROSTIPOLLOS MULTIPLAZA            0\n",
              "17          Salud               NUTRICION INTEGRAL            6\n",
              "18   Supermercado           AUTO MERCADO PL/DEL SO            2\n",
              "19    Restaurante           RESTAURANTE TERRAZA TO            0\n",
              "20    Restaurante                       PF CHANG S            0\n",
              "21    Restaurante           SUBWAY MULTIPLAZA ESCA            0\n",
              "22    Restaurante              LA FABRICA PIZZERIA            0\n",
              "23    Restaurante           TERIYAKI MULTIPLAZA ES            0\n",
              "24   Supermercado           AUTO MERCADO MULTIPLAZ            2\n",
              "25        Regalos           LIBRERIA INTERNACIONAL            7\n",
              "26          Salud      FARM/SUCRE MULTIPLAZA OESTE            6\n",
              "27       Gasolina          SERVICENTRO EL HIGUERON            1\n",
              "28       Gasolina                  BOMBA LA MARINA            1\n",
              "29    Restaurante            SUBWAY CIUDAD QUESADA            0\n",
              "..            ...                              ...          ...\n",
              "262   Restaurante                  SUBWAY U.LATINA            0\n",
              "263      Gasolina            SERVICENTRO LA GALERA            1\n",
              "264   Restaurante                 TILAPIAS QUECO S            0\n",
              "265   Restaurante       RESTAURANTE LAS HORTENSIAS            0\n",
              "266  Supermercado          AUTO MERCADO PL.DEL SOL            2\n",
              "267   Restaurante                        NINA CAFE            0\n",
              "268  Supermercado          MINI SUPER FRUTICAS N 1            2\n",
              "269   Restaurante                        NINA CAFE            0\n",
              "270      Gimnasio                GIMNASIO CIPRESES            5\n",
              "271   Restaurante                        NINA CAFE            0\n",
              "272   Restaurante             MEGA SUPER SANTA ANA            0\n",
              "273   Restaurante                  SUBWAY U.LATINA            0\n",
              "274      Gasolina   SERVICENTRO EL HIGUERO\\SAN JOS            1\n",
              "275   Restaurante                  SUBWAY U.LATINA            0\n",
              "276   Restaurante   LA FABRICA PIZZERIA CURRIDABAT            0\n",
              "277       Regalos         YAMUNI SUCURSAL DEL ESTE            7\n",
              "278   Restaurante   LA CASONA DE LALY SANT\\SANTA A            0\n",
              "279         Salud        FISCHEL PLAZA DEL SOL S02            6\n",
              "280  Supermercado          AUTO MERCADO PL.DEL SOL            2\n",
              "281   Restaurante         LAS CATRINAS RESTAURANTE            0\n",
              "282  Supermercado          AUTO MERCADO PL.DEL SOL            2\n",
              "283   Restaurante                        NINA CAFE            0\n",
              "284  Supermercado          AUTO MERCADO PL.DEL SOL            2\n",
              "285   Restaurante    HELADERIA LA ESTACION AVENIDA            0\n",
              "286   Restaurante                  SUBWAY U.LATINA            0\n",
              "287   Restaurante   CACIQUITA RESTAUR Y LO HEREDIA            0\n",
              "288   Restaurante                      SUBWAY CIUD            0\n",
              "289   Restaurante       RESTAURANTE TAIKO ALAJUELA            0\n",
              "290      Gasolina  ESTAC. DE SERVICIO LOI ALAJUELA            1\n",
              "291  Supermercado                      AUTO MERCAD            2\n",
              "\n",
              "[292 rows x 3 columns]"
            ]
          },
          "metadata": {
            "tags": []
          },
          "execution_count": 79
        }
      ]
    },
    {
      "metadata": {
        "id": "eWtv_QGy_H7i",
        "colab_type": "code",
        "colab": {
          "base_uri": "https://localhost:8080/",
          "height": 455
        },
        "outputId": "c040072d-a3e7-46b1-c5c0-a1be90406d63"
      },
      "cell_type": "code",
      "source": [
        "fig = plt.figure(figsize=(8,6))\n",
        "df.groupby('Map_Name').Map_Text.count().plot.bar(ylim=0)\n",
        "plt.show()"
      ],
      "execution_count": 49,
      "outputs": [
        {
          "output_type": "display_data",
          "data": {
            "image/png": "[encoded data removed]",
            "text/plain": [
              "<Figure size 576x432 with 1 Axes>"
            ]
          },
          "metadata": {
            "tags": []
          }
        }
      ]
    },
    {
      "metadata": {
        "id": "cUic91ba_lV2",
        "colab_type": "code",
        "colab": {
          "base_uri": "https://localhost:8080/",
          "height": 33
        },
        "outputId": "66e533a7-44f5-497d-c2e7-a9cb820d35d5"
      },
      "cell_type": "code",
      "source": [
        "tfidf = TfidfVectorizer(sublinear_tf=True, min_df=5, norm='l2', encoding='latin-1', ngram_range=(1, 2), stop_words='english')\n",
        "features = tfidf.fit_transform(df.Map_Text).toarray()\n",
        "labels = df.category_id\n",
        "features.shape"
      ],
      "execution_count": 50,
      "outputs": [
        {
          "output_type": "execute_result",
          "data": {
            "text/plain": [
              "(292, 67)"
            ]
          },
          "metadata": {
            "tags": []
          },
          "execution_count": 50
        }
      ]
    },
    {
      "metadata": {
        "id": "CmReNvn7_8Vx",
        "colab_type": "code",
        "colab": {
          "base_uri": "https://localhost:8080/",
          "height": 1382
        },
        "outputId": "fd94f157-123a-48cd-c8de-7f0751141a17"
      },
      "cell_type": "code",
      "source": [
        "N = 2\n",
        "for Product, category_id in sorted(category_to_id.items()):\n",
        "  features_chi2 = chi2(features, labels == category_id)\n",
        "  indices = np.argsort(features_chi2[0])\n",
        "  feature_names = np.array(tfidf.get_feature_names())[indices]\n",
        "  unigrams = [v for v in feature_names if len(v.split(' ')) == 1]\n",
        "  bigrams = [v for v in feature_names if len(v.split(' ')) == 2]\n",
        "  print(\"# '{}':\".format(Product))\n",
        "  print(\"  . Most correlated unigrams:\\n. {}\".format('\\n. '.join(unigrams[-N:])))\n",
        "  print(\"  . Most correlated bigrams:\\n. {}\".format('\\n. '.join(bigrams[-N:])))"
      ],
      "execution_count": 51,
      "outputs": [
        {
          "output_type": "stream",
          "text": [
            "# 'Carro':\n",
            "  . Most correlated unigrams:\n",
            ". subway\n",
            ". del\n",
            "  . Most correlated bigrams:\n",
            ". del sol\n",
            ". subway latina\n",
            "# 'Celular':\n",
            "  . Most correlated unigrams:\n",
            ". subway\n",
            ". del\n",
            "  . Most correlated bigrams:\n",
            ". del sol\n",
            ". subway latina\n",
            "# 'Diversion':\n",
            "  . Most correlated unigrams:\n",
            ". del\n",
            ". auto\n",
            "  . Most correlated bigrams:\n",
            ". del sol\n",
            ". subway latina\n",
            "# 'Gasolina':\n",
            "  . Most correlated unigrams:\n",
            ". galera\n",
            ". servicentro\n",
            "  . Most correlated bigrams:\n",
            ". servicentro el\n",
            ". servicentro la\n",
            "# 'Gimnasio':\n",
            "  . Most correlated unigrams:\n",
            ". subway\n",
            ". del\n",
            "  . Most correlated bigrams:\n",
            ". del sol\n",
            ". subway latina\n",
            "# 'Imprevisto':\n",
            "  . Most correlated unigrams:\n",
            ". del\n",
            ". curridabat\n",
            "  . Most correlated bigrams:\n",
            ". del sol\n",
            ". subway latina\n",
            "# 'Regalos':\n",
            "  . Most correlated unigrams:\n",
            ". auto\n",
            ". carlos\n",
            "  . Most correlated bigrams:\n",
            ". subway latina\n",
            ". san carlos\n",
            "# 'Restaurante':\n",
            "  . Most correlated unigrams:\n",
            ". auto\n",
            ". subway\n",
            "  . Most correlated bigrams:\n",
            ". auto mercado\n",
            ". subway latina\n",
            "# 'Salud':\n",
            "  . Most correlated unigrams:\n",
            ". san\n",
            ". plaza\n",
            "  . Most correlated bigrams:\n",
            ". del sol\n",
            ". plaza del\n",
            "# 'Software':\n",
            "  . Most correlated unigrams:\n",
            ". subway\n",
            ". del\n",
            "  . Most correlated bigrams:\n",
            ". del sol\n",
            ". subway latina\n",
            "# 'Supermercado':\n",
            "  . Most correlated unigrams:\n",
            ". pl\n",
            ". mercado\n",
            "  . Most correlated bigrams:\n",
            ". mercado pl\n",
            ". auto mercado\n",
            "# 'Transferencia':\n",
            "  . Most correlated unigrams:\n",
            ". sinpe\n",
            ". tef\n",
            "  . Most correlated bigrams:\n",
            ". sinpe rojas_ugalde_danie\n",
            ". dd sinpe\n"
          ],
          "name": "stdout"
        }
      ]
    },
    {
      "metadata": {
        "id": "nY6221SlAOVa",
        "colab_type": "code",
        "colab": {
          "base_uri": "https://localhost:8080/",
          "height": 102
        },
        "outputId": "207f10ae-f065-4914-cd28-26df8bcaf6d3"
      },
      "cell_type": "code",
      "source": [
        "X_train, X_test, y_train, y_test = train_test_split(df['Map_Text'], df['Map_Name'], random_state = 0)\n",
        "count_vect = CountVectorizer()\n",
        "X_train_counts = count_vect.fit_transform(X_train)\n",
        "tfidf_transformer = TfidfTransformer()\n",
        "X_train_tfidf = tfidf_transformer.fit_transform(X_train_counts)\n",
        "clf = LogisticRegression().fit(X_train_tfidf, y_train)"
      ],
      "execution_count": 81,
      "outputs": [
        {
          "output_type": "stream",
          "text": [
            "/usr/local/lib/python3.6/dist-packages/sklearn/linear_model/logistic.py:433: FutureWarning: Default solver will be changed to 'lbfgs' in 0.22. Specify a solver to silence this warning.\n",
            "  FutureWarning)\n",
            "/usr/local/lib/python3.6/dist-packages/sklearn/linear_model/logistic.py:460: FutureWarning: Default multi_class will be changed to 'auto' in 0.22. Specify the multi_class option to silence this warning.\n",
            "  \"this warning.\", FutureWarning)\n"
          ],
          "name": "stderr"
        }
      ]
    },
    {
      "metadata": {
        "id": "CvDEqDg6AXO7",
        "colab_type": "code",
        "colab": {
          "base_uri": "https://localhost:8080/",
          "height": 33
        },
        "outputId": "a21b0bc8-a3ca-454a-b11e-3ff6f3cb9798"
      },
      "cell_type": "code",
      "source": [
        "results = clf.predict(count_vect.transform([\"subway\"]))\n",
        "prob_per_class_dictionary = dict(zip(model.classes_, results))\n",
        "\n",
        "print(prob_per_class_dictionary)\n"
      ],
      "execution_count": 155,
      "outputs": [
        {
          "output_type": "stream",
          "text": [
            "{0: 'Restaurante'}\n"
          ],
          "name": "stdout"
        }
      ]
    },
    {
      "metadata": {
        "id": "tgCmpirYBfg1",
        "colab_type": "code",
        "colab": {
          "base_uri": "https://localhost:8080/",
          "height": 760
        },
        "outputId": "2f1a635d-14cf-4f64-9103-7ccdd0ef31fa"
      },
      "cell_type": "code",
      "source": [
        "models = [\n",
        "    RandomForestClassifier(n_estimators=200, max_depth=3, random_state=0),\n",
        "    LinearSVC(),\n",
        "    MultinomialNB(),\n",
        "    LogisticRegression(random_state=0),\n",
        "]\n",
        "CV = 5\n",
        "cv_df = pd.DataFrame(index=range(CV * len(models)))\n",
        "entries = []\n",
        "for model in models:\n",
        "  model_name = model.__class__.__name__\n",
        "  accuracies = cross_val_score(model, features, labels, scoring='accuracy', cv=CV)\n",
        "  for fold_idx, accuracy in enumerate(accuracies):\n",
        "    entries.append((model_name, fold_idx, accuracy))\n",
        "cv_df = pd.DataFrame(entries, columns=['model_name', 'fold_idx', 'accuracy'])\n",
        "import seaborn as sns\n",
        "sns.boxplot(x='model_name', y='accuracy', data=cv_df)\n",
        "sns.stripplot(x='model_name', y='accuracy', data=cv_df, \n",
        "              size=8, jitter=True, edgecolor=\"gray\", linewidth=2)\n",
        "plt.show()"
      ],
      "execution_count": 54,
      "outputs": [
        {
          "output_type": "stream",
          "text": [
            "/usr/local/lib/python3.6/dist-packages/sklearn/model_selection/_split.py:652: Warning: The least populated class in y has only 1 members, which is too few. The minimum number of members in any class cannot be less than n_splits=5.\n",
            "  % (min_groups, self.n_splits)), Warning)\n",
            "/usr/local/lib/python3.6/dist-packages/sklearn/model_selection/_split.py:652: Warning: The least populated class in y has only 1 members, which is too few. The minimum number of members in any class cannot be less than n_splits=5.\n",
            "  % (min_groups, self.n_splits)), Warning)\n",
            "/usr/local/lib/python3.6/dist-packages/sklearn/model_selection/_split.py:652: Warning: The least populated class in y has only 1 members, which is too few. The minimum number of members in any class cannot be less than n_splits=5.\n",
            "  % (min_groups, self.n_splits)), Warning)\n",
            "/usr/local/lib/python3.6/dist-packages/sklearn/model_selection/_split.py:652: Warning: The least populated class in y has only 1 members, which is too few. The minimum number of members in any class cannot be less than n_splits=5.\n",
            "  % (min_groups, self.n_splits)), Warning)\n",
            "/usr/local/lib/python3.6/dist-packages/sklearn/linear_model/logistic.py:433: FutureWarning: Default solver will be changed to 'lbfgs' in 0.22. Specify a solver to silence this warning.\n",
            "  FutureWarning)\n",
            "/usr/local/lib/python3.6/dist-packages/sklearn/linear_model/logistic.py:460: FutureWarning: Default multi_class will be changed to 'auto' in 0.22. Specify the multi_class option to silence this warning.\n",
            "  \"this warning.\", FutureWarning)\n",
            "/usr/local/lib/python3.6/dist-packages/sklearn/linear_model/logistic.py:433: FutureWarning: Default solver will be changed to 'lbfgs' in 0.22. Specify a solver to silence this warning.\n",
            "  FutureWarning)\n",
            "/usr/local/lib/python3.6/dist-packages/sklearn/linear_model/logistic.py:460: FutureWarning: Default multi_class will be changed to 'auto' in 0.22. Specify the multi_class option to silence this warning.\n",
            "  \"this warning.\", FutureWarning)\n",
            "/usr/local/lib/python3.6/dist-packages/sklearn/linear_model/logistic.py:433: FutureWarning: Default solver will be changed to 'lbfgs' in 0.22. Specify a solver to silence this warning.\n",
            "  FutureWarning)\n",
            "/usr/local/lib/python3.6/dist-packages/sklearn/linear_model/logistic.py:460: FutureWarning: Default multi_class will be changed to 'auto' in 0.22. Specify the multi_class option to silence this warning.\n",
            "  \"this warning.\", FutureWarning)\n",
            "/usr/local/lib/python3.6/dist-packages/sklearn/linear_model/logistic.py:433: FutureWarning: Default solver will be changed to 'lbfgs' in 0.22. Specify a solver to silence this warning.\n",
            "  FutureWarning)\n",
            "/usr/local/lib/python3.6/dist-packages/sklearn/linear_model/logistic.py:460: FutureWarning: Default multi_class will be changed to 'auto' in 0.22. Specify the multi_class option to silence this warning.\n",
            "  \"this warning.\", FutureWarning)\n",
            "/usr/local/lib/python3.6/dist-packages/sklearn/linear_model/logistic.py:433: FutureWarning: Default solver will be changed to 'lbfgs' in 0.22. Specify a solver to silence this warning.\n",
            "  FutureWarning)\n",
            "/usr/local/lib/python3.6/dist-packages/sklearn/linear_model/logistic.py:460: FutureWarning: Default multi_class will be changed to 'auto' in 0.22. Specify the multi_class option to silence this warning.\n",
            "  \"this warning.\", FutureWarning)\n"
          ],
          "name": "stderr"
        },
        {
          "output_type": "display_data",
          "data": {
            "image/png": "[encoded data removed]",
            "text/plain": [
              "<Figure size 432x288 with 1 Axes>"
            ]
          },
          "metadata": {
            "tags": []
          }
        }
      ]
    },
    {
      "metadata": {
        "id": "TXys-rY3Bo3y",
        "colab_type": "code",
        "colab": {
          "base_uri": "https://localhost:8080/",
          "height": 115
        },
        "outputId": "f8dab2d8-5492-4c59-d9e5-350ff566c6ac"
      },
      "cell_type": "code",
      "source": [
        "cv_df.groupby('model_name').accuracy.mean()\n"
      ],
      "execution_count": 55,
      "outputs": [
        {
          "output_type": "execute_result",
          "data": {
            "text/plain": [
              "model_name\n",
              "LinearSVC                 0.733777\n",
              "LogisticRegression        0.741052\n",
              "MultinomialNB             0.727404\n",
              "RandomForestClassifier    0.693764\n",
              "Name: accuracy, dtype: float64"
            ]
          },
          "metadata": {
            "tags": []
          },
          "execution_count": 55
        }
      ]
    },
    {
      "metadata": {
        "id": "KZ7OZL1gBroi",
        "colab_type": "code",
        "colab": {
          "base_uri": "https://localhost:8080/",
          "height": 757
        },
        "outputId": "4e29108c-4dbe-45d4-86f7-01fe473136c5"
      },
      "cell_type": "code",
      "source": [
        "model = LogisticRegression()\n",
        "X_train, X_test, y_train, y_test, indices_train, indices_test = train_test_split(features, labels, df.index, test_size=0.33, random_state=0)\n",
        "model.fit(X_train, y_train)\n",
        "y_pred = model.predict(X_test)\n",
        "from sklearn.metrics import confusion_matrix\n",
        "conf_mat = confusion_matrix(y_test, y_pred)\n",
        "fig, ax = plt.subplots(figsize=(10,10))\n",
        "sns.heatmap(conf_mat, annot=True, fmt='d',\n",
        "            xticklabels=category_id_df.Map_Name.values, yticklabels=category_id_df.Map_Name.values)\n",
        "plt.ylabel('Actual')\n",
        "plt.xlabel('Predicted')\n",
        "plt.show()"
      ],
      "execution_count": 67,
      "outputs": [
        {
          "output_type": "stream",
          "text": [
            "/usr/local/lib/python3.6/dist-packages/sklearn/linear_model/logistic.py:433: FutureWarning: Default solver will be changed to 'lbfgs' in 0.22. Specify a solver to silence this warning.\n",
            "  FutureWarning)\n",
            "/usr/local/lib/python3.6/dist-packages/sklearn/linear_model/logistic.py:460: FutureWarning: Default multi_class will be changed to 'auto' in 0.22. Specify the multi_class option to silence this warning.\n",
            "  \"this warning.\", FutureWarning)\n"
          ],
          "name": "stderr"
        },
        {
          "output_type": "display_data",
          "data": {
            "image/png": "[encoded data removed]",
            "text/plain": [
              "<Figure size 720x720 with 2 Axes>"
            ]
          },
          "metadata": {
            "tags": []
          }
        }
      ]
    },
    {
      "metadata": {
        "id": "laNoBufyFHoj",
        "colab_type": "code",
        "colab": {
          "base_uri": "https://localhost:8080/",
          "height": 358
        },
        "outputId": "c8f8b069-5c59-45ed-cdd1-46dbf48d3ef5"
      },
      "cell_type": "code",
      "source": [
        "pd.options.display.float_format = '{:,.2f}'.format\n",
        "test_data = pd.read_csv('TestData2.csv',header=None,encoding='latin-1' ,error_bad_lines=False)\n",
        "test_data.head()\n",
        "print()\n",
        "clf.predict(count_vect.transform(list(test_data[0])))\n",
        "test_data[\"predicted\"] = clf.predict(count_vect.transform(list(test_data[0])))\n",
        "\n",
        "test_data.groupby(['predicted']).sum()\n",
        "test_data.groupby(['predicted']).sum().plot.pie( subplots=True,figsize=(5, 5))\n"
      ],
      "execution_count": 151,
      "outputs": [
        {
          "output_type": "stream",
          "text": [
            "\n"
          ],
          "name": "stdout"
        },
        {
          "output_type": "execute_result",
          "data": {
            "text/plain": [
              "array([<matplotlib.axes._subplots.AxesSubplot object at 0x7f780090e550>],\n",
              "      dtype=object)"
            ]
          },
          "metadata": {
            "tags": []
          },
          "execution_count": 151
        },
        {
          "output_type": "display_data",
          "data": {
            "image/png": "[encoded data removed]",
            "text/plain": [
              "<Figure size 360x360 with 1 Axes>"
            ]
          },
          "metadata": {
            "tags": []
          }
        }
      ]
    }
  ]
}